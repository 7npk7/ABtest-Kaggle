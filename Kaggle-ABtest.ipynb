{
 "cells": [
  {
   "cell_type": "code",
   "execution_count": 41,
   "id": "2161991c",
   "metadata": {},
   "outputs": [],
   "source": [
    "import pandas as pd\n",
    "import numpy as np\n",
    "from scipy.stats import ttest_ind\n",
    "from statsmodels.stats.proportion import proportions_ztest\n",
    "import matplotlib.pyplot as plt"
   ]
  },
  {
   "cell_type": "code",
   "execution_count": 2,
   "id": "a70d6b8b",
   "metadata": {},
   "outputs": [
    {
     "data": {
      "text/html": [
       "<div>\n",
       "<style scoped>\n",
       "    .dataframe tbody tr th:only-of-type {\n",
       "        vertical-align: middle;\n",
       "    }\n",
       "\n",
       "    .dataframe tbody tr th {\n",
       "        vertical-align: top;\n",
       "    }\n",
       "\n",
       "    .dataframe thead th {\n",
       "        text-align: right;\n",
       "    }\n",
       "</style>\n",
       "<table border=\"1\" class=\"dataframe\">\n",
       "  <thead>\n",
       "    <tr style=\"text-align: right;\">\n",
       "      <th></th>\n",
       "      <th>user_id</th>\n",
       "      <th>timestamp</th>\n",
       "      <th>group</th>\n",
       "      <th>landing_page</th>\n",
       "      <th>converted</th>\n",
       "    </tr>\n",
       "  </thead>\n",
       "  <tbody>\n",
       "    <tr>\n",
       "      <th>0</th>\n",
       "      <td>851104</td>\n",
       "      <td>2017-01-21 22:11:48.556739</td>\n",
       "      <td>control</td>\n",
       "      <td>old_page</td>\n",
       "      <td>0</td>\n",
       "    </tr>\n",
       "    <tr>\n",
       "      <th>1</th>\n",
       "      <td>804228</td>\n",
       "      <td>2017-01-12 08:01:45.159739</td>\n",
       "      <td>control</td>\n",
       "      <td>old_page</td>\n",
       "      <td>0</td>\n",
       "    </tr>\n",
       "    <tr>\n",
       "      <th>2</th>\n",
       "      <td>661590</td>\n",
       "      <td>2017-01-11 16:55:06.154213</td>\n",
       "      <td>treatment</td>\n",
       "      <td>new_page</td>\n",
       "      <td>0</td>\n",
       "    </tr>\n",
       "    <tr>\n",
       "      <th>3</th>\n",
       "      <td>853541</td>\n",
       "      <td>2017-01-08 18:28:03.143765</td>\n",
       "      <td>treatment</td>\n",
       "      <td>new_page</td>\n",
       "      <td>0</td>\n",
       "    </tr>\n",
       "    <tr>\n",
       "      <th>4</th>\n",
       "      <td>864975</td>\n",
       "      <td>2017-01-21 01:52:26.210827</td>\n",
       "      <td>control</td>\n",
       "      <td>old_page</td>\n",
       "      <td>1</td>\n",
       "    </tr>\n",
       "  </tbody>\n",
       "</table>\n",
       "</div>"
      ],
      "text/plain": [
       "   user_id                   timestamp      group landing_page  converted\n",
       "0   851104  2017-01-21 22:11:48.556739    control     old_page          0\n",
       "1   804228  2017-01-12 08:01:45.159739    control     old_page          0\n",
       "2   661590  2017-01-11 16:55:06.154213  treatment     new_page          0\n",
       "3   853541  2017-01-08 18:28:03.143765  treatment     new_page          0\n",
       "4   864975  2017-01-21 01:52:26.210827    control     old_page          1"
      ]
     },
     "execution_count": 2,
     "metadata": {},
     "output_type": "execute_result"
    }
   ],
   "source": [
    "df = pd.read_csv('ab_data.csv', sep=';')\n",
    "df.head()"
   ]
  },
  {
   "cell_type": "code",
   "execution_count": 3,
   "id": "93f1c273",
   "metadata": {},
   "outputs": [
    {
     "name": "stdout",
     "output_type": "stream",
     "text": [
      "<class 'pandas.core.frame.DataFrame'>\n",
      "RangeIndex: 294478 entries, 0 to 294477\n",
      "Data columns (total 5 columns):\n",
      " #   Column        Non-Null Count   Dtype \n",
      "---  ------        --------------   ----- \n",
      " 0   user_id       294478 non-null  int64 \n",
      " 1   timestamp     294478 non-null  object\n",
      " 2   group         294478 non-null  object\n",
      " 3   landing_page  294478 non-null  object\n",
      " 4   converted     294478 non-null  int64 \n",
      "dtypes: int64(2), object(3)\n",
      "memory usage: 11.2+ MB\n"
     ]
    }
   ],
   "source": [
    "df.shape\n",
    "df.info()"
   ]
  },
  {
   "cell_type": "markdown",
   "id": "adcbef81",
   "metadata": {},
   "source": [
    "## Посмотрим, есть ли пропущенные значения в данных"
   ]
  },
  {
   "cell_type": "code",
   "execution_count": 4,
   "id": "fe292743",
   "metadata": {},
   "outputs": [
    {
     "data": {
      "text/plain": [
       "user_id         0\n",
       "timestamp       0\n",
       "group           0\n",
       "landing_page    0\n",
       "converted       0\n",
       "dtype: int64"
      ]
     },
     "execution_count": 4,
     "metadata": {},
     "output_type": "execute_result"
    }
   ],
   "source": [
    "df.isnull().sum()"
   ]
  },
  {
   "cell_type": "markdown",
   "id": "486bdf36",
   "metadata": {},
   "source": [
    "## Посмотрим, есть ли дубликаты в пользователях"
   ]
  },
  {
   "cell_type": "code",
   "execution_count": 5,
   "id": "d23f0b0a",
   "metadata": {},
   "outputs": [
    {
     "data": {
      "text/plain": [
       "294478"
      ]
     },
     "execution_count": 5,
     "metadata": {},
     "output_type": "execute_result"
    }
   ],
   "source": [
    "df.user_id.nunique()\n",
    "df.shape[0]"
   ]
  },
  {
   "cell_type": "markdown",
   "id": "c7cb7bfc",
   "metadata": {},
   "source": [
    "## Есть дубликаты в user_id"
   ]
  },
  {
   "cell_type": "code",
   "execution_count": 6,
   "id": "3e22ae14",
   "metadata": {},
   "outputs": [
    {
     "data": {
      "text/plain": [
       "user_id\n",
       "630052    2\n",
       "630126    2\n",
       "630137    2\n",
       "630320    2\n",
       "630471    2\n",
       "         ..\n",
       "945627    2\n",
       "945645    2\n",
       "945703    2\n",
       "945797    2\n",
       "945971    2\n",
       "Length: 3894, dtype: int64"
      ]
     },
     "execution_count": 6,
     "metadata": {},
     "output_type": "execute_result"
    }
   ],
   "source": [
    "users = df.groupby('user_id').size()\n",
    "users[users>1]"
   ]
  },
  {
   "cell_type": "code",
   "execution_count": 7,
   "id": "1abeb938",
   "metadata": {},
   "outputs": [],
   "source": [
    "df.drop_duplicates(subset='user_id', keep='first', inplace=True)"
   ]
  },
  {
   "cell_type": "code",
   "execution_count": 8,
   "id": "a48115c6",
   "metadata": {},
   "outputs": [
    {
     "data": {
      "text/plain": [
       "True"
      ]
     },
     "execution_count": 8,
     "metadata": {},
     "output_type": "execute_result"
    }
   ],
   "source": [
    "df.user_id.nunique() == df.shape[0]"
   ]
  },
  {
   "cell_type": "markdown",
   "id": "e6836c05",
   "metadata": {},
   "source": [
    "## Проверим группы control и treatment"
   ]
  },
  {
   "cell_type": "code",
   "execution_count": 23,
   "id": "1a754a47",
   "metadata": {},
   "outputs": [
    {
     "data": {
      "text/html": [
       "<div>\n",
       "<style scoped>\n",
       "    .dataframe tbody tr th:only-of-type {\n",
       "        vertical-align: middle;\n",
       "    }\n",
       "\n",
       "    .dataframe tbody tr th {\n",
       "        vertical-align: top;\n",
       "    }\n",
       "\n",
       "    .dataframe thead th {\n",
       "        text-align: right;\n",
       "    }\n",
       "</style>\n",
       "<table border=\"1\" class=\"dataframe\">\n",
       "  <thead>\n",
       "    <tr style=\"text-align: right;\">\n",
       "      <th>landing_page</th>\n",
       "      <th>group</th>\n",
       "      <th>new_page</th>\n",
       "      <th>old_page</th>\n",
       "    </tr>\n",
       "  </thead>\n",
       "  <tbody>\n",
       "    <tr>\n",
       "      <th>0</th>\n",
       "      <td>control</td>\n",
       "      <td>0</td>\n",
       "      <td>144226</td>\n",
       "    </tr>\n",
       "    <tr>\n",
       "      <th>1</th>\n",
       "      <td>treatment</td>\n",
       "      <td>144314</td>\n",
       "      <td>0</td>\n",
       "    </tr>\n",
       "  </tbody>\n",
       "</table>\n",
       "</div>"
      ],
      "text/plain": [
       "landing_page      group  new_page  old_page\n",
       "0               control         0    144226\n",
       "1             treatment    144314         0"
      ]
     },
     "execution_count": 23,
     "metadata": {},
     "output_type": "execute_result"
    }
   ],
   "source": [
    "pd.crosstab(df['group'], df['landing_page']).reset_index()"
   ]
  },
  {
   "cell_type": "markdown",
   "id": "6d3d1a87",
   "metadata": {},
   "source": [
    "## controll group видят new_page. Нужно это исправить"
   ]
  },
  {
   "cell_type": "code",
   "execution_count": 10,
   "id": "a4faf199",
   "metadata": {
    "scrolled": true
   },
   "outputs": [],
   "source": [
    "df=df[~((df.group=='control')&(df.landing_page=='new_page'))]\n",
    "df=df[~((df.group=='treatment')&(df.landing_page=='old_page'))]"
   ]
  },
  {
   "cell_type": "code",
   "execution_count": 21,
   "id": "4a77fdf9",
   "metadata": {},
   "outputs": [
    {
     "data": {
      "text/html": [
       "<div>\n",
       "<style scoped>\n",
       "    .dataframe tbody tr th:only-of-type {\n",
       "        vertical-align: middle;\n",
       "    }\n",
       "\n",
       "    .dataframe tbody tr th {\n",
       "        vertical-align: top;\n",
       "    }\n",
       "\n",
       "    .dataframe thead th {\n",
       "        text-align: right;\n",
       "    }\n",
       "</style>\n",
       "<table border=\"1\" class=\"dataframe\">\n",
       "  <thead>\n",
       "    <tr style=\"text-align: right;\">\n",
       "      <th>landing_page</th>\n",
       "      <th>group</th>\n",
       "      <th>new_page</th>\n",
       "      <th>old_page</th>\n",
       "    </tr>\n",
       "  </thead>\n",
       "  <tbody>\n",
       "    <tr>\n",
       "      <th>0</th>\n",
       "      <td>control</td>\n",
       "      <td>0</td>\n",
       "      <td>144226</td>\n",
       "    </tr>\n",
       "    <tr>\n",
       "      <th>1</th>\n",
       "      <td>treatment</td>\n",
       "      <td>144314</td>\n",
       "      <td>0</td>\n",
       "    </tr>\n",
       "  </tbody>\n",
       "</table>\n",
       "</div>"
      ],
      "text/plain": [
       "landing_page      group  new_page  old_page\n",
       "0               control         0    144226\n",
       "1             treatment    144314         0"
      ]
     },
     "execution_count": 21,
     "metadata": {},
     "output_type": "execute_result"
    }
   ],
   "source": [
    "pd.crosstab(df['group'], df['landing_page']).reset_index()"
   ]
  },
  {
   "cell_type": "markdown",
   "id": "a8317c67",
   "metadata": {},
   "source": [
    "## Нулевая гипотеза: Нет значительной разницы между двумя группами\n",
    "## Альтернативная гипотеза: Изменения улучшат конверсию"
   ]
  },
  {
   "cell_type": "markdown",
   "id": "1ec72555",
   "metadata": {},
   "source": [
    "## Разобъём на 2 группы"
   ]
  },
  {
   "cell_type": "code",
   "execution_count": 12,
   "id": "2319c198",
   "metadata": {},
   "outputs": [],
   "source": [
    "group_a = df[df['group'] == 'control']['converted']\n",
    "group_b = df[df['group'] == 'treatment']['converted']"
   ]
  },
  {
   "cell_type": "markdown",
   "id": "1ebcedbf",
   "metadata": {},
   "source": [
    "## Посчитаем среднее, дисперсию и размер выборки у каждой группы"
   ]
  },
  {
   "cell_type": "code",
   "execution_count": 13,
   "id": "dbeb4347",
   "metadata": {},
   "outputs": [],
   "source": [
    "mean_a = np.mean(group_a)\n",
    "mean_b = np.mean(group_b)"
   ]
  },
  {
   "cell_type": "code",
   "execution_count": 14,
   "id": "232e4ff0",
   "metadata": {},
   "outputs": [],
   "source": [
    "var_a = np.var(group_a, ddof=1)\n",
    "var_b = np.var(group_b, ddof=1)"
   ]
  },
  {
   "cell_type": "code",
   "execution_count": 15,
   "id": "22e97a51",
   "metadata": {},
   "outputs": [],
   "source": [
    "n_a = len(group_a)\n",
    "n_b = len(group_b)"
   ]
  },
  {
   "cell_type": "code",
   "execution_count": 16,
   "id": "ebc70f82",
   "metadata": {},
   "outputs": [
    {
     "data": {
      "text/html": [
       "<div>\n",
       "<style scoped>\n",
       "    .dataframe tbody tr th:only-of-type {\n",
       "        vertical-align: middle;\n",
       "    }\n",
       "\n",
       "    .dataframe tbody tr th {\n",
       "        vertical-align: top;\n",
       "    }\n",
       "\n",
       "    .dataframe thead th {\n",
       "        text-align: right;\n",
       "    }\n",
       "</style>\n",
       "<table border=\"1\" class=\"dataframe\">\n",
       "  <thead>\n",
       "    <tr style=\"text-align: right;\">\n",
       "      <th></th>\n",
       "      <th>group</th>\n",
       "      <th>landing_page</th>\n",
       "      <th>count</th>\n",
       "      <th>sum</th>\n",
       "      <th>mean</th>\n",
       "    </tr>\n",
       "  </thead>\n",
       "  <tbody>\n",
       "    <tr>\n",
       "      <th>0</th>\n",
       "      <td>control</td>\n",
       "      <td>old_page</td>\n",
       "      <td>144226</td>\n",
       "      <td>17349</td>\n",
       "      <td>0.120290</td>\n",
       "    </tr>\n",
       "    <tr>\n",
       "      <th>1</th>\n",
       "      <td>treatment</td>\n",
       "      <td>new_page</td>\n",
       "      <td>144314</td>\n",
       "      <td>17134</td>\n",
       "      <td>0.118727</td>\n",
       "    </tr>\n",
       "  </tbody>\n",
       "</table>\n",
       "</div>"
      ],
      "text/plain": [
       "       group landing_page   count    sum      mean\n",
       "0    control     old_page  144226  17349  0.120290\n",
       "1  treatment     new_page  144314  17134  0.118727"
      ]
     },
     "execution_count": 16,
     "metadata": {},
     "output_type": "execute_result"
    }
   ],
   "source": [
    "df.groupby(['group','landing_page'])['converted'].agg(['count','sum','mean']).reset_index()"
   ]
  },
  {
   "cell_type": "markdown",
   "id": "2c1a8da9",
   "metadata": {},
   "source": [
    "## Проведём z-тест"
   ]
  },
  {
   "cell_type": "code",
   "execution_count": 51,
   "id": "eff3b9c6",
   "metadata": {
    "scrolled": true
   },
   "outputs": [],
   "source": [
    "nobs = n_a, n_b\n",
    "successes = df[df.landing_page == 'old_page']['converted'].sum(), df[df.landing_page == 'new_page']['converted'].sum()"
   ]
  },
  {
   "cell_type": "code",
   "execution_count": 52,
   "id": "49ea946e",
   "metadata": {},
   "outputs": [
    {
     "name": "stdout",
     "output_type": "stream",
     "text": [
      "Z Stat = 1.2942, p-value = 0.1956\n"
     ]
    }
   ],
   "source": [
    "z, p = proportions_ztest(count=successes, nobs=nobs)\n",
    "print('Z Stat = %.4f, p-value = %.4f' % (z, p))"
   ]
  },
  {
   "cell_type": "code",
   "execution_count": 48,
   "id": "a7556921",
   "metadata": {},
   "outputs": [
    {
     "name": "stdout",
     "output_type": "stream",
     "text": [
      "Нет статистически значимых различий между выборками\n"
     ]
    }
   ],
   "source": [
    "alpha = 0.05\n",
    "if p < alpha:\n",
    "    print(\"Различия между выборками статистически значимы\")\n",
    "else:\n",
    "    print(\"Нет статистически значимых различий между выборками\")"
   ]
  },
  {
   "cell_type": "markdown",
   "id": "4f71fc13",
   "metadata": {},
   "source": [
    "## p-value выше 0.05, значит мы не можем отклонить нулевую гипотезу"
   ]
  },
  {
   "cell_type": "code",
   "execution_count": null,
   "id": "4640edfb",
   "metadata": {},
   "outputs": [],
   "source": []
  }
 ],
 "metadata": {
  "kernelspec": {
   "display_name": "Python 3 (ipykernel)",
   "language": "python",
   "name": "python3"
  },
  "language_info": {
   "codemirror_mode": {
    "name": "ipython",
    "version": 3
   },
   "file_extension": ".py",
   "mimetype": "text/x-python",
   "name": "python",
   "nbconvert_exporter": "python",
   "pygments_lexer": "ipython3",
   "version": "3.9.7"
  }
 },
 "nbformat": 4,
 "nbformat_minor": 5
}
